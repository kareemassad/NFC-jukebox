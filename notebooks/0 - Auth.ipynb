{
 "cells": [
  {
   "cell_type": "code",
   "execution_count": 1,
   "metadata": {},
   "outputs": [
    {
     "name": "stdout",
     "output_type": "stream",
     "text": [
      "Requirement already satisfied: requests in c:\\users\\kareem\\.virtualenvs\\nfc-jukebox-qqmckimx\\lib\\site-packages (2.24.0)\n",
      "Requirement already satisfied: idna<3,>=2.5 in c:\\users\\kareem\\.virtualenvs\\nfc-jukebox-qqmckimx\\lib\\site-packages (from requests) (2.10)\n",
      "Requirement already satisfied: chardet<4,>=3.0.2 in c:\\users\\kareem\\.virtualenvs\\nfc-jukebox-qqmckimx\\lib\\site-packages (from requests) (3.0.4)\n",
      "Requirement already satisfied: urllib3!=1.25.0,!=1.25.1,<1.26,>=1.21.1 in c:\\users\\kareem\\.virtualenvs\\nfc-jukebox-qqmckimx\\lib\\site-packages (from requests) (1.25.10)\n",
      "Requirement already satisfied: certifi>=2017.4.17 in c:\\users\\kareem\\.virtualenvs\\nfc-jukebox-qqmckimx\\lib\\site-packages (from requests) (2020.6.20)\n"
     ]
    }
   ],
   "source": [
    "!pip install requests"
   ]
  },
  {
   "cell_type": "code",
   "execution_count": 2,
   "metadata": {},
   "outputs": [],
   "source": [
    "import requests\n",
    "import datetime"
   ]
  },
  {
   "cell_type": "code",
   "execution_count": 3,
   "metadata": {},
   "outputs": [],
   "source": [
    "import base64"
   ]
  },
  {
   "cell_type": "code",
   "execution_count": 4,
   "metadata": {},
   "outputs": [],
   "source": [
    "client_id='USE OWN KEYS' \n",
    "client_secret='USE OWN KEYS'"
   ]
  },
  {
   "cell_type": "code",
   "execution_count": 5,
   "metadata": {},
   "outputs": [],
   "source": [
    "#do a token lookup\n",
    "#token will be for future requests\n",
    "#essentially authenticate once instead of everytime"
   ]
  },
  {
   "cell_type": "code",
   "execution_count": 6,
   "metadata": {},
   "outputs": [],
   "source": [
    "client_creds = f\"{client_id}:{client_secret}\""
   ]
  },
  {
   "cell_type": "code",
   "execution_count": 7,
   "metadata": {},
   "outputs": [
    {
     "name": "stdout",
     "output_type": "stream",
     "text": [
      "b'NDdiMWRmODRkZDgwNGExN2E3N2RkYWI1NjRjMDVmNzk6Njc2ODFhZjQ5YzAwNDE5NTkxMzFiYWQ1OTczNTI5YjY='\n"
     ]
    }
   ],
   "source": [
    "client_creds_b64 = base64.b64encode(client_creds.encode())\n",
    "print(client_creds_b64)"
   ]
  },
  {
   "cell_type": "code",
   "execution_count": 8,
   "metadata": {},
   "outputs": [],
   "source": [
    "token_url = \"https://accounts.spotify.com/api/token\"\n",
    "method = \"POST\"\n",
    "token_data = {\n",
    "    \"grant_type\" : \"client_credentials\"\n",
    "}\n",
    "token_headers = {\n",
    "    \"Authorization\" : f\"Basic {client_creds_b64.decode()}\"\n",
    "}"
   ]
  },
  {
   "cell_type": "code",
   "execution_count": 9,
   "metadata": {},
   "outputs": [
    {
     "name": "stdout",
     "output_type": "stream",
     "text": [
      "{'access_token': 'BQBb6tvlyiWpAHNtiwRJO0jZ81qLdWChjgpeqULSCxCg12t4gK0IlTDWhmuQfvt_FRV9GIJ_Jmp_zFn72qA', 'token_type': 'Bearer', 'expires_in': 3600, 'scope': ''}\n"
     ]
    }
   ],
   "source": [
    "r = requests.post(token_url, data=token_data, headers=token_headers)\n",
    "print(r.json())\n",
    "valid_request = r.status_code in range(200, 299)\n"
   ]
  },
  {
   "cell_type": "code",
   "execution_count": 10,
   "metadata": {},
   "outputs": [],
   "source": [
    "if valid_request: \n",
    "    token_response_data = r.json()\n",
    "    now = datetime.datetime.now()\n",
    "    access_token = token_response_data['access_token']\n",
    "    expires_in = token_response_data['expires_in']\n",
    "    expires = now + datetime.timedelta(seconds=expires_in)\n",
    "    #boolean type\n",
    "    did_expire = expires < now"
   ]
  },
  {
   "cell_type": "code",
   "execution_count": null,
   "metadata": {},
   "outputs": [],
   "source": []
  }
 ],
 "metadata": {
  "kernelspec": {
   "display_name": "Python 3",
   "language": "python",
   "name": "python3"
  },
  "language_info": {
   "codemirror_mode": {
    "name": "ipython",
    "version": 3
   },
   "file_extension": ".py",
   "mimetype": "text/x-python",
   "name": "python",
   "nbconvert_exporter": "python",
   "pygments_lexer": "ipython3",
   "version": "3.8.5"
  }
 },
 "nbformat": 4,
 "nbformat_minor": 4
}
